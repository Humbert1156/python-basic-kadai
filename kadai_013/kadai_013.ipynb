{
  "nbformat": 4,
  "nbformat_minor": 0,
  "metadata": {
    "colab": {
      "provenance": []
    },
    "kernelspec": {
      "name": "python3",
      "display_name": "Python 3"
    },
    "language_info": {
      "name": "python"
    }
  },
  "cells": [
    {
      "cell_type": "code",
      "execution_count": 1,
      "metadata": {
        "colab": {
          "base_uri": "https://localhost:8080/"
        },
        "outputId": "0bda7f28-20a8-4adf-cf52-05df4d2dcd30",
        "id": "ckS07myH_MeE"
      },
      "outputs": [
        {
          "output_type": "execute_result",
          "data": {
            "text/plain": [
              "110.00000000000001"
            ]
          },
          "metadata": {},
          "execution_count": 1
        }
      ],
      "source": [
        "def calculate_taxincl(price, tax):\n",
        "  taxincl = price * (1+tax/100)\n",
        "  return taxincl\n",
        "\n",
        "calculate_taxincl(100, 10)"
      ]
    }
  ]
}