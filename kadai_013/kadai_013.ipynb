{
  "nbformat": 4,
  "nbformat_minor": 0,
  "metadata": {
    "colab": {
      "provenance": []
    },
    "kernelspec": {
      "name": "python3",
      "display_name": "Python 3"
    },
    "language_info": {
      "name": "python"
    }
  },
  "cells": [
    {
      "cell_type": "code",
      "execution_count": 3,
      "metadata": {
        "colab": {
          "base_uri": "https://localhost:8080/"
        },
        "id": "tgii3Kzg0nfG",
        "outputId": "51a5d5cb-200c-4d71-90dd-288fd9c98c27"
      },
      "outputs": [
        {
          "output_type": "stream",
          "name": "stdout",
          "text": [
            "110.00000000000001円\n"
          ]
        }
      ],
      "source": [
        "def calculate_taxincl(price, tax):\n",
        "  taxincl = price * (1+tax/100)\n",
        "  print(f\"{taxincl}円\")\n",
        "\n",
        "calculate_taxincl(100, 10)"
      ]
    }
  ]
}