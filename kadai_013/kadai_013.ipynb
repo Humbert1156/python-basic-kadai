{
  "nbformat": 4,
  "nbformat_minor": 0,
  "metadata": {
    "colab": {
      "provenance": []
    },
    "kernelspec": {
      "name": "python3",
      "display_name": "Python 3"
    },
    "language_info": {
      "name": "python"
    }
  },
  "cells": [
    {
      "cell_type": "code",
      "execution_count": 3,
      "metadata": {
        "colab": {
          "base_uri": "https://localhost:8080/",
          "height": 35
        },
        "outputId": "c7ee4ec6-bdb0-4ef5-da07-326305939610",
        "id": "ckS07myH_MeE"
      },
      "outputs": [
        {
          "output_type": "execute_result",
          "data": {
            "text/plain": [
              "'110.00000000000001円'"
            ],
            "application/vnd.google.colaboratory.intrinsic+json": {
              "type": "string"
            }
          },
          "metadata": {},
          "execution_count": 3
        }
      ],
      "source": [
        "def calculate_taxincl(price, tax):\n",
        "  taxincl = price * (1+tax/100)\n",
        "  return(f\"{taxincl}円\")\n",
        "\n",
        "calculate_taxincl(100, 10)"
      ]
    }
  ]
}